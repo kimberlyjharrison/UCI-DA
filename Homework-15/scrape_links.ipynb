{
 "cells": [
  {
   "cell_type": "code",
   "execution_count": 2,
   "metadata": {},
   "outputs": [],
   "source": [
    "import requests\n",
    "# from bs4 import BeautifulSoup as bs\n",
    "import pandas as pd\n",
    "# import time\n",
    "from splinter import Browser\n",
    "from pprint import pprint\n",
    "from selenium import webdriver\n",
    "import numpy as np\n",
    "\n",
    "import zipfile, urllib.request, shutil, csv, os"
   ]
  },
  {
   "cell_type": "code",
   "execution_count": 128,
   "metadata": {},
   "outputs": [],
   "source": [
    "url = 'https://s3.amazonaws.com/tripdata/index.html'"
   ]
  },
  {
   "cell_type": "code",
   "execution_count": 129,
   "metadata": {},
   "outputs": [],
   "source": [
    "browser = webdriver.Chrome('/usr/local/bin/chromedriver')\n",
    "browser.get(url)"
   ]
  },
  {
   "cell_type": "code",
   "execution_count": 133,
   "metadata": {},
   "outputs": [
    {
     "name": "stdout",
     "output_type": "stream",
     "text": [
      "https://s3.amazonaws.com/tripdata/201701-citibike-tripdata.csv.zip\n",
      "https://s3.amazonaws.com/tripdata/201702-citibike-tripdata.csv.zip\n",
      "https://s3.amazonaws.com/tripdata/201703-citibike-tripdata.csv.zip\n",
      "https://s3.amazonaws.com/tripdata/201704-citibike-tripdata.csv.zip\n",
      "https://s3.amazonaws.com/tripdata/201705-citibike-tripdata.csv.zip\n",
      "https://s3.amazonaws.com/tripdata/201706-citibike-tripdata.csv.zip\n",
      "https://s3.amazonaws.com/tripdata/201707-citibike-tripdata.csv.zip\n",
      "https://s3.amazonaws.com/tripdata/201708-citibike-tripdata.csv.zip\n",
      "https://s3.amazonaws.com/tripdata/201709-citibike-tripdata.csv.zip\n",
      "https://s3.amazonaws.com/tripdata/201710-citibike-tripdata.csv.zip\n",
      "https://s3.amazonaws.com/tripdata/201711-citibike-tripdata.csv.zip\n",
      "https://s3.amazonaws.com/tripdata/201712-citibike-tripdata.csv.zip\n"
     ]
    }
   ],
   "source": [
    "## grab relevant links\n",
    "links = browser.find_elements_by_tag_name('a')\n",
    "\n",
    "link_list = []\n",
    "for link in links:\n",
    "    link_list.append(link.get_attribute('href'))\n",
    "    \n",
    "link_list_2017=[]\n",
    "for link in link_list:\n",
    "    if '2017' in link:\n",
    "        if 'JC' not in link:\n",
    "            print(link)\n",
    "            link_list_2017.append(link)"
   ]
  },
  {
   "cell_type": "code",
   "execution_count": 135,
   "metadata": {},
   "outputs": [],
   "source": [
    "# for url in link_list_2017:\n",
    "#     urllib.request.urlretrieve(url, \"data/download/temp.zip\")\n",
    "#     file = zipfile.ZipFile('data/download/temp.zip')\n",
    "#     file.extractall('data/download/')\n",
    "#     os.remove('data/download/temp.zip')\n",
    "#     df = pd.read_csv(file)"
   ]
  },
  {
   "cell_type": "code",
   "execution_count": 149,
   "metadata": {},
   "outputs": [],
   "source": [
    "cols = ['tripduration','starttime','stoptime','start station id','start station name','start station latitude',\n",
    " 'start station longitude','end station id','end station name','end station latitude','end station longitude',\n",
    " 'bikeid','usertype','birth year','gender']"
   ]
  },
  {
   "cell_type": "code",
   "execution_count": 150,
   "metadata": {},
   "outputs": [
    {
     "data": {
      "text/plain": [
       "['tripduration',\n",
       " 'starttime',\n",
       " 'stoptime',\n",
       " 'start station id',\n",
       " 'start station name',\n",
       " 'start station latitude',\n",
       " 'start station longitude',\n",
       " 'end station id',\n",
       " 'end station name',\n",
       " 'end station latitude',\n",
       " 'end station longitude',\n",
       " 'bikeid',\n",
       " 'usertype',\n",
       " 'birth year',\n",
       " 'gender']"
      ]
     },
     "execution_count": 150,
     "metadata": {},
     "output_type": "execute_result"
    }
   ],
   "source": [
    "cols"
   ]
  },
  {
   "cell_type": "code",
   "execution_count": 151,
   "metadata": {},
   "outputs": [],
   "source": [
    "df = pd.DataFrame()\n",
    "\n",
    "for url in link_list_2017:\n",
    "    urllib.request.urlretrieve(url, \"data/test/temp.zip\")\n",
    "    file = zipfile.ZipFile('data/test/temp.zip')\n",
    "    df_temp = pd.read_csv('data/test/temp.zip')\n",
    "    df_temp.columns = cols\n",
    "    df = df.append(df_temp, ignore_index=True)\n",
    "    os.remove('data/test/temp.zip')"
   ]
  },
  {
   "cell_type": "code",
   "execution_count": 152,
   "metadata": {},
   "outputs": [
    {
     "data": {
      "text/plain": [
       "16364657"
      ]
     },
     "execution_count": 152,
     "metadata": {},
     "output_type": "execute_result"
    }
   ],
   "source": [
    "len(df)"
   ]
  },
  {
   "cell_type": "code",
   "execution_count": 154,
   "metadata": {},
   "outputs": [],
   "source": [
    "df = df.dropna(axis=0, how='any')"
   ]
  },
  {
   "cell_type": "code",
   "execution_count": 155,
   "metadata": {},
   "outputs": [
    {
     "data": {
      "text/plain": [
       "14718438"
      ]
     },
     "execution_count": 155,
     "metadata": {},
     "output_type": "execute_result"
    }
   ],
   "source": [
    "len(df)"
   ]
  },
  {
   "cell_type": "code",
   "execution_count": 156,
   "metadata": {},
   "outputs": [
    {
     "name": "stderr",
     "output_type": "stream",
     "text": [
      "/Users/kimberlyjharrison/anaconda3/envs/PythonUCI/lib/python3.6/site-packages/ipykernel_launcher.py:1: SettingWithCopyWarning: \n",
      "A value is trying to be set on a copy of a slice from a DataFrame.\n",
      "Try using .loc[row_indexer,col_indexer] = value instead\n",
      "\n",
      "See the caveats in the documentation: http://pandas.pydata.org/pandas-docs/stable/indexing.html#indexing-view-versus-copy\n",
      "  \"\"\"Entry point for launching an IPython kernel.\n",
      "/Users/kimberlyjharrison/anaconda3/envs/PythonUCI/lib/python3.6/site-packages/ipykernel_launcher.py:2: SettingWithCopyWarning: \n",
      "A value is trying to be set on a copy of a slice from a DataFrame.\n",
      "Try using .loc[row_indexer,col_indexer] = value instead\n",
      "\n",
      "See the caveats in the documentation: http://pandas.pydata.org/pandas-docs/stable/indexing.html#indexing-view-versus-copy\n",
      "  \n"
     ]
    }
   ],
   "source": [
    "df['age'] = 2019 - df['birth year']\n",
    "df['gender'] = df['gender'].apply({1:'Male', 2:'Female', 0:'Unknown'}.get)"
   ]
  },
  {
   "cell_type": "code",
   "execution_count": 158,
   "metadata": {},
   "outputs": [],
   "source": [
    "df = df[df['age']<100]"
   ]
  },
  {
   "cell_type": "code",
   "execution_count": 159,
   "metadata": {},
   "outputs": [
    {
     "data": {
      "text/plain": [
       "14711423"
      ]
     },
     "execution_count": 159,
     "metadata": {},
     "output_type": "execute_result"
    }
   ],
   "source": [
    "len(df)"
   ]
  },
  {
   "cell_type": "code",
   "execution_count": 160,
   "metadata": {},
   "outputs": [
    {
     "data": {
      "text/plain": [
       "tripduration                        int64\n",
       "starttime                  datetime64[ns]\n",
       "stoptime                   datetime64[ns]\n",
       "start station id                    int64\n",
       "start station name                 object\n",
       "start station latitude            float64\n",
       "start station longitude           float64\n",
       "end station id                      int64\n",
       "end station name                   object\n",
       "end station latitude              float64\n",
       "end station longitude             float64\n",
       "bikeid                              int64\n",
       "usertype                           object\n",
       "birth year                        float64\n",
       "gender                             object\n",
       "age                               float64\n",
       "dtype: object"
      ]
     },
     "execution_count": 160,
     "metadata": {},
     "output_type": "execute_result"
    }
   ],
   "source": [
    "df['starttime'] = pd.to_datetime(df['starttime'])\n",
    "df['stoptime'] = pd.to_datetime(df['stoptime'])\n",
    "df.dtypes"
   ]
  },
  {
   "cell_type": "code",
   "execution_count": 161,
   "metadata": {},
   "outputs": [
    {
     "data": {
      "text/plain": [
       "14711423"
      ]
     },
     "execution_count": 161,
     "metadata": {},
     "output_type": "execute_result"
    }
   ],
   "source": [
    "len(df)"
   ]
  },
  {
   "cell_type": "code",
   "execution_count": 1,
   "metadata": {},
   "outputs": [
    {
     "ename": "NameError",
     "evalue": "name 'df' is not defined",
     "output_type": "error",
     "traceback": [
      "\u001b[0;31m---------------------------------------------------------------------------\u001b[0m",
      "\u001b[0;31mNameError\u001b[0m                                 Traceback (most recent call last)",
      "\u001b[0;32m<ipython-input-1-00cf07b74dcd>\u001b[0m in \u001b[0;36m<module>\u001b[0;34m\u001b[0m\n\u001b[0;32m----> 1\u001b[0;31m \u001b[0mdf\u001b[0m\u001b[0;34m\u001b[0m\u001b[0;34m\u001b[0m\u001b[0m\n\u001b[0m",
      "\u001b[0;31mNameError\u001b[0m: name 'df' is not defined"
     ]
    }
   ],
   "source": [
    "df"
   ]
  },
  {
   "cell_type": "code",
   "execution_count": null,
   "metadata": {},
   "outputs": [],
   "source": []
  },
  {
   "cell_type": "code",
   "execution_count": 162,
   "metadata": {
    "scrolled": true
   },
   "outputs": [],
   "source": [
    "df.to_csv('data/combined/data2017.csv', header=True, index=False)"
   ]
  },
  {
   "cell_type": "code",
   "execution_count": 3,
   "metadata": {},
   "outputs": [],
   "source": [
    "df2 = pd.read_csv('data/combined/data2017.csv')"
   ]
  },
  {
   "cell_type": "code",
   "execution_count": 18,
   "metadata": {},
   "outputs": [
    {
     "data": {
      "text/plain": [
       "811"
      ]
     },
     "execution_count": 18,
     "metadata": {},
     "output_type": "execute_result"
    }
   ],
   "source": [
    "df2['start station id'].nunique()"
   ]
  },
  {
   "cell_type": "code",
   "execution_count": 19,
   "metadata": {},
   "outputs": [
    {
     "data": {
      "text/html": [
       "<div>\n",
       "<style scoped>\n",
       "    .dataframe tbody tr th:only-of-type {\n",
       "        vertical-align: middle;\n",
       "    }\n",
       "\n",
       "    .dataframe tbody tr th {\n",
       "        vertical-align: top;\n",
       "    }\n",
       "\n",
       "    .dataframe thead th {\n",
       "        text-align: right;\n",
       "    }\n",
       "</style>\n",
       "<table border=\"1\" class=\"dataframe\">\n",
       "  <thead>\n",
       "    <tr style=\"text-align: right;\">\n",
       "      <th></th>\n",
       "      <th>tripduration</th>\n",
       "      <th>start station id</th>\n",
       "      <th>start station latitude</th>\n",
       "      <th>start station longitude</th>\n",
       "      <th>end station id</th>\n",
       "      <th>end station latitude</th>\n",
       "      <th>end station longitude</th>\n",
       "      <th>bikeid</th>\n",
       "      <th>birth year</th>\n",
       "      <th>age</th>\n",
       "    </tr>\n",
       "  </thead>\n",
       "  <tbody>\n",
       "    <tr>\n",
       "      <th>count</th>\n",
       "      <td>1.471142e+07</td>\n",
       "      <td>1.471142e+07</td>\n",
       "      <td>1.471142e+07</td>\n",
       "      <td>1.471142e+07</td>\n",
       "      <td>1.471142e+07</td>\n",
       "      <td>1.471142e+07</td>\n",
       "      <td>1.471142e+07</td>\n",
       "      <td>1.471142e+07</td>\n",
       "      <td>1.471142e+07</td>\n",
       "      <td>1.471142e+07</td>\n",
       "    </tr>\n",
       "    <tr>\n",
       "      <th>mean</th>\n",
       "      <td>8.948868e+02</td>\n",
       "      <td>1.336457e+03</td>\n",
       "      <td>4.073641e+01</td>\n",
       "      <td>-7.398449e+01</td>\n",
       "      <td>1.327534e+03</td>\n",
       "      <td>4.073617e+01</td>\n",
       "      <td>-7.398481e+01</td>\n",
       "      <td>2.385685e+04</td>\n",
       "      <td>1.978928e+03</td>\n",
       "      <td>4.007221e+01</td>\n",
       "    </tr>\n",
       "    <tr>\n",
       "      <th>std</th>\n",
       "      <td>1.547723e+04</td>\n",
       "      <td>1.340938e+03</td>\n",
       "      <td>7.188176e-02</td>\n",
       "      <td>1.201386e-01</td>\n",
       "      <td>1.338518e+03</td>\n",
       "      <td>4.834780e-02</td>\n",
       "      <td>7.164683e-02</td>\n",
       "      <td>5.338498e+03</td>\n",
       "      <td>1.170537e+01</td>\n",
       "      <td>1.170537e+01</td>\n",
       "    </tr>\n",
       "    <tr>\n",
       "      <th>min</th>\n",
       "      <td>6.100000e+01</td>\n",
       "      <td>7.200000e+01</td>\n",
       "      <td>0.000000e+00</td>\n",
       "      <td>-7.403423e+01</td>\n",
       "      <td>7.200000e+01</td>\n",
       "      <td>0.000000e+00</td>\n",
       "      <td>-7.406692e+01</td>\n",
       "      <td>1.452900e+04</td>\n",
       "      <td>1.920000e+03</td>\n",
       "      <td>1.800000e+01</td>\n",
       "    </tr>\n",
       "    <tr>\n",
       "      <th>25%</th>\n",
       "      <td>3.560000e+02</td>\n",
       "      <td>3.600000e+02</td>\n",
       "      <td>4.071894e+01</td>\n",
       "      <td>-7.399601e+01</td>\n",
       "      <td>3.590000e+02</td>\n",
       "      <td>4.071894e+01</td>\n",
       "      <td>-7.399662e+01</td>\n",
       "      <td>1.874000e+04</td>\n",
       "      <td>1.971000e+03</td>\n",
       "      <td>3.100000e+01</td>\n",
       "    </tr>\n",
       "    <tr>\n",
       "      <th>50%</th>\n",
       "      <td>5.810000e+02</td>\n",
       "      <td>4.850000e+02</td>\n",
       "      <td>4.073726e+01</td>\n",
       "      <td>-7.398752e+01</td>\n",
       "      <td>4.840000e+02</td>\n",
       "      <td>4.073705e+01</td>\n",
       "      <td>-7.398765e+01</td>\n",
       "      <td>2.555100e+04</td>\n",
       "      <td>1.982000e+03</td>\n",
       "      <td>3.700000e+01</td>\n",
       "    </tr>\n",
       "    <tr>\n",
       "      <th>75%</th>\n",
       "      <td>9.760000e+02</td>\n",
       "      <td>3.140000e+03</td>\n",
       "      <td>4.075510e+01</td>\n",
       "      <td>-7.397621e+01</td>\n",
       "      <td>3.137000e+03</td>\n",
       "      <td>4.075467e+01</td>\n",
       "      <td>-7.397634e+01</td>\n",
       "      <td>2.816200e+04</td>\n",
       "      <td>1.988000e+03</td>\n",
       "      <td>4.800000e+01</td>\n",
       "    </tr>\n",
       "    <tr>\n",
       "      <th>max</th>\n",
       "      <td>9.735948e+06</td>\n",
       "      <td>3.654000e+03</td>\n",
       "      <td>4.550636e+01</td>\n",
       "      <td>0.000000e+00</td>\n",
       "      <td>3.654000e+03</td>\n",
       "      <td>4.550636e+01</td>\n",
       "      <td>0.000000e+00</td>\n",
       "      <td>3.348100e+04</td>\n",
       "      <td>2.001000e+03</td>\n",
       "      <td>9.900000e+01</td>\n",
       "    </tr>\n",
       "  </tbody>\n",
       "</table>\n",
       "</div>"
      ],
      "text/plain": [
       "       tripduration  start station id  start station latitude  \\\n",
       "count  1.471142e+07      1.471142e+07            1.471142e+07   \n",
       "mean   8.948868e+02      1.336457e+03            4.073641e+01   \n",
       "std    1.547723e+04      1.340938e+03            7.188176e-02   \n",
       "min    6.100000e+01      7.200000e+01            0.000000e+00   \n",
       "25%    3.560000e+02      3.600000e+02            4.071894e+01   \n",
       "50%    5.810000e+02      4.850000e+02            4.073726e+01   \n",
       "75%    9.760000e+02      3.140000e+03            4.075510e+01   \n",
       "max    9.735948e+06      3.654000e+03            4.550636e+01   \n",
       "\n",
       "       start station longitude  end station id  end station latitude  \\\n",
       "count             1.471142e+07    1.471142e+07          1.471142e+07   \n",
       "mean             -7.398449e+01    1.327534e+03          4.073617e+01   \n",
       "std               1.201386e-01    1.338518e+03          4.834780e-02   \n",
       "min              -7.403423e+01    7.200000e+01          0.000000e+00   \n",
       "25%              -7.399601e+01    3.590000e+02          4.071894e+01   \n",
       "50%              -7.398752e+01    4.840000e+02          4.073705e+01   \n",
       "75%              -7.397621e+01    3.137000e+03          4.075467e+01   \n",
       "max               0.000000e+00    3.654000e+03          4.550636e+01   \n",
       "\n",
       "       end station longitude        bikeid    birth year           age  \n",
       "count           1.471142e+07  1.471142e+07  1.471142e+07  1.471142e+07  \n",
       "mean           -7.398481e+01  2.385685e+04  1.978928e+03  4.007221e+01  \n",
       "std             7.164683e-02  5.338498e+03  1.170537e+01  1.170537e+01  \n",
       "min            -7.406692e+01  1.452900e+04  1.920000e+03  1.800000e+01  \n",
       "25%            -7.399662e+01  1.874000e+04  1.971000e+03  3.100000e+01  \n",
       "50%            -7.398765e+01  2.555100e+04  1.982000e+03  3.700000e+01  \n",
       "75%            -7.397634e+01  2.816200e+04  1.988000e+03  4.800000e+01  \n",
       "max             0.000000e+00  3.348100e+04  2.001000e+03  9.900000e+01  "
      ]
     },
     "execution_count": 19,
     "metadata": {},
     "output_type": "execute_result"
    }
   ],
   "source": [
    "df2.describe()"
   ]
  },
  {
   "cell_type": "code",
   "execution_count": null,
   "metadata": {},
   "outputs": [],
   "source": []
  }
 ],
 "metadata": {
  "kernelspec": {
   "display_name": "Python 3",
   "language": "python",
   "name": "python3"
  },
  "language_info": {
   "codemirror_mode": {
    "name": "ipython",
    "version": 3
   },
   "file_extension": ".py",
   "mimetype": "text/x-python",
   "name": "python",
   "nbconvert_exporter": "python",
   "pygments_lexer": "ipython3",
   "version": "3.7.2"
  }
 },
 "nbformat": 4,
 "nbformat_minor": 2
}
